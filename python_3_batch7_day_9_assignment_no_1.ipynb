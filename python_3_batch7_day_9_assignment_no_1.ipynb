{
  "nbformat": 4,
  "nbformat_minor": 0,
  "metadata": {
    "colab": {
      "name": "python 3 batch7 day 9 assignment no 1",
      "provenance": [],
      "authorship_tag": "ABX9TyMjouwU7x2Xp8mLY4RJ1jIB",
      "include_colab_link": true
    },
    "kernelspec": {
      "name": "python3",
      "display_name": "Python 3"
    }
  },
  "cells": [
    {
      "cell_type": "markdown",
      "metadata": {
        "id": "view-in-github",
        "colab_type": "text"
      },
      "source": [
        "<a href=\"https://colab.research.google.com/github/pitchikakumaraveeravenkataganesh/python3-batch7-day9-assignment-no-1/blob/master/python_3_batch7_day_9_assignment_no_1.ipynb\" target=\"_parent\"><img src=\"https://colab.research.google.com/assets/colab-badge.svg\" alt=\"Open In Colab\"/></a>"
      ]
    },
    {
      "cell_type": "markdown",
      "metadata": {
        "id": "vmDeY_grwq2G",
        "colab_type": "text"
      },
      "source": [
        ""
      ]
    },
    {
      "cell_type": "markdown",
      "metadata": {
        "id": "_lgv7slawr-a",
        "colab_type": "text"
      },
      "source": [
        "using unittesting given number is prime or not\n"
      ]
    },
    {
      "cell_type": "code",
      "metadata": {
        "id": "4BxUt-Gawy7C",
        "colab_type": "code",
        "colab": {
          "base_uri": "https://localhost:8080/",
          "height": 51
        },
        "outputId": "5bbfd3e6-96a5-47e4-9a04-948b154caa18"
      },
      "source": [
        "def test_prime(n): \n",
        "  if(n==1):\n",
        "      return False\n",
        "  elif (n == 2):\n",
        "      return True;\n",
        "  else:\n",
        "      for x in range(2,n):\n",
        "        if (n % x == 0):\n",
        "                     return False\n",
        "      return True \n",
        "\n",
        "print(test_prime(9))\n",
        "\n",
        "print(test_prime(2))"
      ],
      "execution_count": 35,
      "outputs": [
        {
          "output_type": "stream",
          "text": [
            "False\n",
            "True\n"
          ],
          "name": "stdout"
        }
      ]
    },
    {
      "cell_type": "code",
      "metadata": {
        "id": "Eesgxbqa28jg",
        "colab_type": "code",
        "colab": {}
      },
      "source": [
        ""
      ],
      "execution_count": 25,
      "outputs": []
    }
  ]
}